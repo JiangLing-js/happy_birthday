{
 "cells": [
  {
   "cell_type": "code",
   "execution_count": 1,
   "id": "da96ea4d",
   "metadata": {
    "_cell_guid": "b1076dfc-b9ad-4769-8c92-a6c4dae69d19",
    "_uuid": "8f2839f25d086af736a60e9eeb907d3b93b6e0e5",
    "execution": {
     "iopub.execute_input": "2024-04-13T15:54:27.857614Z",
     "iopub.status.busy": "2024-04-13T15:54:27.856900Z",
     "iopub.status.idle": "2024-04-13T15:54:28.773728Z",
     "shell.execute_reply": "2024-04-13T15:54:28.772446Z"
    },
    "papermill": {
     "duration": 0.926314,
     "end_time": "2024-04-13T15:54:28.776772",
     "exception": false,
     "start_time": "2024-04-13T15:54:27.850458",
     "status": "completed"
    },
    "tags": []
   },
   "outputs": [
    {
     "name": "stdout",
     "output_type": "stream",
     "text": [
      "/kaggle/input/abalone1/abalone.csv\n",
      "/kaggle/input/playground-series-s4e4/sample_submission.csv\n",
      "/kaggle/input/playground-series-s4e4/train.csv\n",
      "/kaggle/input/playground-series-s4e4/test.csv\n"
     ]
    }
   ],
   "source": [
    "# This Python 3 environment comes with many helpful analytics libraries installed\n",
    "# It is defined by the kaggle/python Docker image: https://github.com/kaggle/docker-python\n",
    "# For example, here's several helpful packages to load\n",
    "\n",
    "import numpy as np # linear algebra\n",
    "import pandas as pd # data processing, CSV file I/O (e.g. pd.read_csv)\n",
    "\n",
    "# Input data files are available in the read-only \"../input/\" directory\n",
    "# For example, running this (by clicking run or pressing Shift+Enter) will list all files under the input directory\n",
    "\n",
    "import os\n",
    "for dirname, _, filenames in os.walk('/kaggle/input'):\n",
    "    for filename in filenames:\n",
    "        print(os.path.join(dirname, filename))\n",
    "\n",
    "# You can write up to 20GB to the current directory (/kaggle/working/) that gets preserved as output when you create a version using \"Save & Run All\" \n",
    "# You can also write temporary files to /kaggle/temp/, but they won't be saved outside of the current session"
   ]
  },
  {
   "cell_type": "code",
   "execution_count": 2,
   "id": "148a012e",
   "metadata": {
    "execution": {
     "iopub.execute_input": "2024-04-13T15:54:28.785585Z",
     "iopub.status.busy": "2024-04-13T15:54:28.784514Z",
     "iopub.status.idle": "2024-04-13T15:54:29.108544Z",
     "shell.execute_reply": "2024-04-13T15:54:29.106823Z"
    },
    "papermill": {
     "duration": 0.331078,
     "end_time": "2024-04-13T15:54:29.111194",
     "exception": false,
     "start_time": "2024-04-13T15:54:28.780116",
     "status": "completed"
    },
    "tags": []
   },
   "outputs": [
    {
     "name": "stdout",
     "output_type": "stream",
     "text": [
      "   Length  Diameter  Height  Whole weight  Whole weight.1  Whole weight.2  \\\n",
      "0   0.455     0.365   0.095        0.5140          0.2245          0.1010   \n",
      "1   0.350     0.265   0.090        0.2255          0.0995          0.0485   \n",
      "2   0.530     0.420   0.135        0.6770          0.2565          0.1415   \n",
      "\n",
      "   Shell weight  Rings  Sex_F  Sex_I  Sex_M  \n",
      "0          0.15     15  False  False   True  \n",
      "1          0.07      7  False  False   True  \n",
      "2          0.21      9   True  False  False  \n"
     ]
    }
   ],
   "source": [
    "train_dataset_root = r\"/kaggle/input/playground-series-s4e4/train.csv\"\n",
    "train_dataset_root2 = r\"/kaggle/input/abalone1/abalone.csv\"\n",
    "test_dataset_root = r\"/kaggle/input/playground-series-s4e4/test.csv\"\n",
    "train_dataset = pd.read_csv(train_dataset_root)\n",
    "# one hot\n",
    "train_dataset = pd.get_dummies(train_dataset, columns=['Sex'])\n",
    "test_dataset = pd.read_csv(test_dataset_root)\n",
    "test_dataset = pd.get_dummies(test_dataset, columns=['Sex'])\n",
    "# print(train_dataset.head(3))\n",
    "train_dataset2 = pd.read_csv(train_dataset_root2)\n",
    "train_dataset2 = pd.get_dummies(train_dataset2, columns=['Sex'])\n",
    "train_dataset2 = train_dataset2.rename(columns={'Shucked weight': 'Whole weight.1', 'Viscera weight': 'Whole weight.2'})\n",
    "print(train_dataset2.head(3))"
   ]
  },
  {
   "cell_type": "code",
   "execution_count": 3,
   "id": "3a275b8e",
   "metadata": {
    "execution": {
     "iopub.execute_input": "2024-04-13T15:54:29.119106Z",
     "iopub.status.busy": "2024-04-13T15:54:29.118681Z",
     "iopub.status.idle": "2024-04-13T15:54:29.186090Z",
     "shell.execute_reply": "2024-04-13T15:54:29.184736Z"
    },
    "papermill": {
     "duration": 0.07392,
     "end_time": "2024-04-13T15:54:29.188389",
     "exception": false,
     "start_time": "2024-04-13T15:54:29.114469",
     "status": "completed"
    },
    "tags": []
   },
   "outputs": [
    {
     "name": "stdout",
     "output_type": "stream",
     "text": [
      "Shape of X: (90615, 10)\n",
      "Shape of X2: (4177, 10)\n",
      "[[0.55 0.43 0.15 ... True False False]\n",
      " [0.63 0.49 0.145 ... True False False]\n",
      " [0.16 0.11 0.025 ... False True False]\n",
      " ...\n",
      " [0.6 0.475 0.205 ... False False True]\n",
      " [0.625 0.485 0.15 ... True False False]\n",
      " [0.71 0.555 0.195 ... False False True]]\n",
      "[[0.455 0.365 0.095 ... False False True]\n",
      " [0.35 0.265 0.09 ... False False True]\n",
      " [0.53 0.42 0.135 ... True False False]\n",
      " ...\n",
      " [0.6 0.475 0.205 ... False False True]\n",
      " [0.625 0.485 0.15 ... True False False]\n",
      " [0.71 0.555 0.195 ... False False True]]\n",
      "[11 11  6 ...  9 10 12]\n"
     ]
    }
   ],
   "source": [
    "X = train_dataset.drop(columns=[\"id\",\"Rings\"]).values  # feature\n",
    "X2 = train_dataset2.drop(columns=[\"Rings\"]).values\n",
    "print(\"Shape of X:\", X.shape)\n",
    "print(\"Shape of X2:\", X2.shape)\n",
    "X = np.concatenate((X, X2), axis=0)\n",
    "y = train_dataset['Rings'].values  # label\n",
    "y2 = train_dataset2['Rings'].values  # label\n",
    "y = np.concatenate((y, y2), axis=0)\n",
    "print(X)\n",
    "print(X2)\n",
    "print(y)"
   ]
  },
  {
   "cell_type": "markdown",
   "id": "feb17c6a",
   "metadata": {
    "papermill": {
     "duration": 0.002606,
     "end_time": "2024-04-13T15:54:29.193991",
     "exception": false,
     "start_time": "2024-04-13T15:54:29.191385",
     "status": "completed"
    },
    "tags": []
   },
   "source": [
    "# **Preprocess**"
   ]
  },
  {
   "cell_type": "code",
   "execution_count": 4,
   "id": "efc2fe53",
   "metadata": {
    "execution": {
     "iopub.execute_input": "2024-04-13T15:54:29.201656Z",
     "iopub.status.busy": "2024-04-13T15:54:29.201008Z",
     "iopub.status.idle": "2024-04-13T15:55:14.250637Z",
     "shell.execute_reply": "2024-04-13T15:55:14.249310Z"
    },
    "papermill": {
     "duration": 45.05635,
     "end_time": "2024-04-13T15:55:14.253115",
     "exception": false,
     "start_time": "2024-04-13T15:54:29.196765",
     "status": "completed"
    },
    "tags": []
   },
   "outputs": [
    {
     "name": "stdout",
     "output_type": "stream",
     "text": [
      "Epoch 0, Loss: 105.9239\n",
      "Epoch 10, Loss: 99.6708\n",
      "Epoch 20, Loss: 91.4872\n",
      "Epoch 30, Loss: 80.0641\n",
      "Epoch 40, Loss: 64.9095\n",
      "Epoch 50, Loss: 47.8558\n",
      "Epoch 60, Loss: 33.4875\n",
      "Epoch 70, Loss: 25.7193\n",
      "Epoch 80, Loss: 22.9735\n",
      "Epoch 90, Loss: 20.1944\n",
      "Epoch 100, Loss: 17.2883\n",
      "Epoch 110, Loss: 14.7081\n",
      "Epoch 120, Loss: 12.3908\n",
      "Epoch 130, Loss: 10.4628\n",
      "Epoch 140, Loss: 8.9373\n",
      "Epoch 150, Loss: 7.7768\n",
      "Epoch 160, Loss: 6.8980\n",
      "Epoch 170, Loss: 6.2612\n",
      "Epoch 180, Loss: 5.8055\n",
      "Epoch 190, Loss: 5.4815\n",
      "Epoch 200, Loss: 5.2500\n",
      "Epoch 210, Loss: 5.0807\n",
      "Epoch 220, Loss: 4.9519\n",
      "Epoch 230, Loss: 4.8498\n",
      "Epoch 240, Loss: 4.7653\n",
      "Epoch 250, Loss: 4.6928\n",
      "Epoch 260, Loss: 4.6290\n",
      "Epoch 270, Loss: 4.5720\n",
      "Epoch 280, Loss: 4.5205\n",
      "Epoch 290, Loss: 4.4739\n",
      "Epoch 300, Loss: 4.4315\n",
      "Epoch 310, Loss: 4.3927\n",
      "Epoch 320, Loss: 4.3574\n",
      "Epoch 330, Loss: 4.3250\n",
      "Epoch 340, Loss: 4.2953\n",
      "Epoch 350, Loss: 4.2683\n",
      "Epoch 360, Loss: 4.2433\n",
      "Epoch 370, Loss: 4.2201\n",
      "Epoch 380, Loss: 4.1984\n",
      "Epoch 390, Loss: 4.1780\n",
      "Epoch 400, Loss: 4.1590\n",
      "Epoch 410, Loss: 4.1413\n",
      "Epoch 420, Loss: 4.1245\n",
      "Epoch 430, Loss: 4.1087\n",
      "Epoch 440, Loss: 4.0937\n",
      "Epoch 450, Loss: 4.0794\n",
      "Epoch 460, Loss: 4.0658\n",
      "Epoch 470, Loss: 4.0529\n",
      "Epoch 480, Loss: 4.0406\n",
      "Epoch 490, Loss: 4.0287\n",
      "Epoch 500, Loss: 4.0174\n",
      "Epoch 510, Loss: 4.0066\n",
      "Epoch 520, Loss: 3.9961\n",
      "Epoch 530, Loss: 3.9860\n",
      "Epoch 540, Loss: 3.9763\n",
      "Epoch 550, Loss: 3.9670\n",
      "Epoch 560, Loss: 3.9580\n",
      "Epoch 570, Loss: 3.9494\n",
      "Epoch 580, Loss: 3.9410\n",
      "Epoch 590, Loss: 3.9330\n",
      "Epoch 600, Loss: 3.9252\n",
      "Epoch 610, Loss: 3.9177\n",
      "Epoch 620, Loss: 3.9105\n",
      "Epoch 630, Loss: 3.9036\n",
      "Epoch 640, Loss: 3.8970\n",
      "Epoch 650, Loss: 3.8906\n",
      "Epoch 660, Loss: 3.8844\n",
      "Epoch 670, Loss: 3.8784\n",
      "Epoch 680, Loss: 3.8726\n",
      "Epoch 690, Loss: 3.8670\n",
      "Epoch 700, Loss: 3.8616\n",
      "Epoch 710, Loss: 3.8564\n",
      "Epoch 720, Loss: 3.8514\n",
      "Epoch 730, Loss: 3.8465\n",
      "Epoch 740, Loss: 3.8417\n",
      "Epoch 750, Loss: 3.8371\n",
      "Epoch 760, Loss: 3.8326\n",
      "Epoch 770, Loss: 3.8282\n",
      "Epoch 780, Loss: 3.8239\n",
      "Epoch 790, Loss: 3.8197\n",
      "Epoch 800, Loss: 3.8156\n",
      "Epoch 810, Loss: 3.8116\n",
      "Epoch 820, Loss: 3.8077\n",
      "Epoch 830, Loss: 3.8039\n",
      "Epoch 840, Loss: 3.8002\n",
      "Epoch 850, Loss: 3.7967\n",
      "Epoch 860, Loss: 3.7932\n",
      "Epoch 870, Loss: 3.7898\n",
      "Epoch 880, Loss: 3.7866\n",
      "Epoch 890, Loss: 3.7835\n",
      "Epoch 900, Loss: 3.7806\n",
      "Epoch 910, Loss: 3.7778\n",
      "Epoch 920, Loss: 3.7751\n",
      "Epoch 930, Loss: 3.7725\n",
      "Epoch 940, Loss: 3.7700\n",
      "Epoch 950, Loss: 3.7675\n",
      "Epoch 960, Loss: 3.7652\n",
      "Epoch 970, Loss: 3.7629\n",
      "Epoch 980, Loss: 3.7608\n",
      "Epoch 990, Loss: 3.7586\n",
      "Validation Loss: 3.8302\n"
     ]
    }
   ],
   "source": [
    "from sklearn.preprocessing import StandardScaler\n",
    "import torch\n",
    "import torch.nn as nn\n",
    "import torch.optim as optim\n",
    "from sklearn.model_selection import train_test_split\n",
    "scaler = StandardScaler()\n",
    "X_scaled = scaler.fit_transform(X)\n",
    "X_train, X_val, y_train, y_val = train_test_split(X_scaled, y, test_size=0.2, random_state=42)\n",
    "X_train_tensor = torch.tensor(X_train, dtype=torch.float32)\n",
    "y_train_tensor = torch.tensor(y_train, dtype=torch.float32)\n",
    "X_val_tensor = torch.tensor(X_val, dtype=torch.float32)\n",
    "y_val_tensor = torch.tensor(y_val, dtype=torch.float32)\n",
    "class DNN(nn.Module):\n",
    "    def __init__(self, input_size, hidden_size1, hidden_size2):\n",
    "        super(DNN, self).__init__()\n",
    "        self.fc1 = nn.Linear(input_size, hidden_size1)\n",
    "        self.relu = nn.ReLU()\n",
    "        self.fc2 = nn.Linear(hidden_size1, hidden_size2)\n",
    "        self.fc3 = nn.Linear(hidden_size2, 1)\n",
    "\n",
    "    def forward(self, x):\n",
    "        out = self.fc1(x)\n",
    "        out = self.relu(out)\n",
    "        out = self.fc2(out)\n",
    "        out = self.relu(out)\n",
    "        out = self.fc3(out)\n",
    "        return out\n",
    "\n",
    "    \n",
    "input_size = X_train.shape[1]\n",
    "hidden_size1 = 64\n",
    "hidden_size2 = 32\n",
    "model = DNN(input_size, hidden_size1, hidden_size2)\n",
    "\n",
    "criterion = nn.MSELoss()\n",
    "optimizer = optim.Adam(model.parameters(), lr=0.001)\n",
    "\n",
    "# 训练模型\n",
    "num_epochs = 1000\n",
    "for epoch in range(num_epochs):\n",
    "    # 前向传播\n",
    "    outputs = model(X_train_tensor)\n",
    "    loss = criterion(outputs, y_train_tensor.view(-1, 1))\n",
    "\n",
    "    # 反向传播和优化\n",
    "    optimizer.zero_grad()\n",
    "    loss.backward()\n",
    "    optimizer.step()\n",
    "\n",
    "    # 每10个epoch打印一次训练信息\n",
    "    if epoch % 10 == 0:\n",
    "        print(f'Epoch {epoch}, Loss: {loss.item():.4f}')\n",
    "    \n",
    "with torch.no_grad():\n",
    "    val_outputs = model(X_val_tensor)\n",
    "    val_loss = criterion(val_outputs, y_val_tensor.view(-1, 1))\n",
    "    print(f'Validation Loss: {val_loss.item():.4f}')\n"
   ]
  },
  {
   "cell_type": "code",
   "execution_count": 5,
   "id": "76f9380a",
   "metadata": {
    "execution": {
     "iopub.execute_input": "2024-04-13T15:55:14.274323Z",
     "iopub.status.busy": "2024-04-13T15:55:14.273668Z",
     "iopub.status.idle": "2024-04-13T15:55:14.475230Z",
     "shell.execute_reply": "2024-04-13T15:55:14.473775Z"
    },
    "papermill": {
     "duration": 0.215486,
     "end_time": "2024-04-13T15:55:14.478004",
     "exception": false,
     "start_time": "2024-04-13T15:55:14.262518",
     "status": "completed"
    },
    "tags": []
   },
   "outputs": [
    {
     "name": "stdout",
     "output_type": "stream",
     "text": [
      "[[0.645 0.475 0.155 ... False False True]\n",
      " [0.58 0.46 0.16 ... False False True]\n",
      " [0.56 0.42 0.14 ... False False True]\n",
      " ...\n",
      " [0.59 0.44 0.155 ... False True False]\n",
      " [0.66 0.525 0.19 ... True False False]\n",
      " [0.43 0.34 0.12 ... True False False]]\n"
     ]
    }
   ],
   "source": [
    "X = test_dataset.drop(columns=[\"id\"]).values\n",
    "test_id = test_dataset[\"id\"].values\n",
    "print(X)\n",
    "test_scaled = scaler.fit_transform(X)\n",
    "test_tensor = torch.tensor(test_scaled, dtype=torch.float32)\n",
    "with torch.no_grad():\n",
    "    test_outputs = model(test_tensor).numpy()\n",
    "result_df = pd.DataFrame({'id': test_id, 'Rings': test_outputs.flatten()})\n",
    "# 将DataFrame保存到CSV文件中\n",
    "result_df.to_csv('submission.csv', index=False)"
   ]
  }
 ],
 "metadata": {
  "kaggle": {
   "accelerator": "none",
   "dataSources": [
    {
     "databundleVersionId": 8096274,
     "sourceId": 72489,
     "sourceType": "competition"
    },
    {
     "datasetId": 4790313,
     "sourceId": 8109578,
     "sourceType": "datasetVersion"
    }
   ],
   "dockerImageVersionId": 30684,
   "isGpuEnabled": false,
   "isInternetEnabled": true,
   "language": "python",
   "sourceType": "notebook"
  },
  "kernelspec": {
   "display_name": "Python 3",
   "language": "python",
   "name": "python3"
  },
  "language_info": {
   "codemirror_mode": {
    "name": "ipython",
    "version": 3
   },
   "file_extension": ".py",
   "mimetype": "text/x-python",
   "name": "python",
   "nbconvert_exporter": "python",
   "pygments_lexer": "ipython3",
   "version": "3.10.13"
  },
  "papermill": {
   "default_parameters": {},
   "duration": 52.399951,
   "end_time": "2024-04-13T15:55:17.067278",
   "environment_variables": {},
   "exception": null,
   "input_path": "__notebook__.ipynb",
   "output_path": "__notebook__.ipynb",
   "parameters": {},
   "start_time": "2024-04-13T15:54:24.667327",
   "version": "2.5.0"
  }
 },
 "nbformat": 4,
 "nbformat_minor": 5
}
